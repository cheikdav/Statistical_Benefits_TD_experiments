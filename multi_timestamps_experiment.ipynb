{
 "cells": [
  {
   "cell_type": "code",
   "execution_count": 1,
   "id": "18fc2abf",
   "metadata": {},
   "outputs": [],
   "source": [
    "import numpy as np\n",
    "import matplotlib.pyplot as plt\n",
    "from tqdm import tqdm\n",
    "from functools import partial\n",
    "import pickle\n",
    "import time\n",
    "import glob\n",
    "import copy\n",
    "\n",
    "\n",
    "\n",
    "from collections import defaultdict\n",
    "from pathos.multiprocessing import ProcessingPool as Pool\n",
    "import pathos as pa\n",
    "from MRP import RandomLayer\n",
    "from estimates import MC_TD_mult_hor_estimates\n",
    "from pathlib import Path\n",
    "\n",
    "\n",
    "plt.rcParams['figure.figsize'] = [10, 5]"
   ]
  },
  {
   "cell_type": "markdown",
   "id": "7879f3ff",
   "metadata": {},
   "source": [
    "## MSE estimation for variating sample size"
   ]
  },
  {
   "cell_type": "code",
   "execution_count": 2,
   "id": "6a220fce",
   "metadata": {
    "scrolled": false
   },
   "outputs": [],
   "source": [
    "state_a = (0,0)\n",
    "state_b = (1,0)\n",
    "NUM_PATHS_PER_SAMPLE = 5000\n",
    "NUM_SAMPLES = 10000\n",
    "STEP_SIZE = 200\n",
    "sample_sizes = range(100,NUM_PATHS_PER_SAMPLE, STEP_SIZE)\n",
    "HORIZON = 100\n",
    "M = RandomLayer(5,HORIZON, p=0, rnd_gen = np.random.default_rng(2))\n"
   ]
  },
  {
   "cell_type": "code",
   "execution_count": 3,
   "metadata": {},
   "outputs": [],
   "source": [
    "def get_theorethical_variances(M,state_a, state_b):\n",
    "    \"\"\"\n",
    "    Calculate the theoretical MSE for treatment A, treatment B, and the average treatment effect (ATE).\n",
    "\n",
    "    Parameters:\n",
    "    - state_a : The state for treatment A.\n",
    "    - state_b : The state for treatment B.\n",
    "\n",
    "    Returns:\n",
    "    - MSE : A dictionary containing the MSE for treatment A, treatment B.\n",
    "    - MSE_diffs : A dictionary containing the MSE for the difference between treatment A and treatment B.\n",
    "    \"\"\"\n",
    "    ALGS = ['TD', 'MC']\n",
    "    MSE_diffs = {}\n",
    "    MSE = {alg: {} for alg in ALGS}\n",
    "    Vs = {} \n",
    "    \n",
    "\n",
    "\n",
    "\n",
    "    MSE['TD'][state_a] = M.asymptotic_TD_variance(state_a)\n",
    "    MSE['TD'][state_b] = M.asymptotic_TD_variance(state_b)\n",
    "    MSE['MC'][state_a] = M.asymptotic_MC_variance(state_a)\n",
    "    MSE['MC'][state_b] = M.asymptotic_MC_variance(state_b)\n",
    "        \n",
    "    MSE_diffs['TD'] = M.asymptotic_diff_TD_variance(state_a, state_b)\n",
    "    MSE_diffs['MC'] = MSE['MC'][state_a] + MSE['MC'][state_b]\n",
    "    Vs[state_a] = M.V[state_a]\n",
    "    Vs[state_b] = M.V[state_b]\n",
    "        \n",
    "    return MSE, MSE_diffs, Vs\n"
   ]
  },
  {
   "cell_type": "code",
   "execution_count": 6,
   "id": "6e47746f",
   "metadata": {},
   "outputs": [],
   "source": [
    "def write_empirical_estimates(M, sample_sizes, NUM_SAMPLES=1, NUM_PROCESSES=None, write_path=None, overwrite=False):\n",
    "    \"\"\"\n",
    "    Computes empirical estimates of the variance of estimators for different horizons. The estimates are written to write_path.\n",
    "\n",
    "    Parameters:\n",
    "    - M (MRP): The MRP to run samples from object.\n",
    "    - sample_sizes (list): The list of sample_sizes at which the MSE is computed.\n",
    "    - NUM_PATHS_PER_SAMPLE (int, optional): Number of paths per sample. Defaults to 200.\n",
    "    - NUM_SAMPLES (int, optional): Number of samples. Defaults to 1.\n",
    "    - NUM_PROCESSES (int, optional): Number of processes to use for parallel execution. Defaults to None.\n",
    "    - write_path (str, optional): Path to write the estimates. Defaults to None.\n",
    "    - SEED (int, optional): Random seed for reproducibility. Defaults to None.\n",
    "    - overwrite (bool, optional): Whether to overwrite existing estimates. This does not explicitly erase old data. Defaults to False. \n",
    "    Returns:\n",
    "    - None\n",
    "\n",
    "    \"\"\"\n",
    "    def gen_samples(M, sample_sizes, horizons):\n",
    "        \"\"\"\n",
    "        Generates a sample for a given horizon length.\n",
    "\n",
    "        Parameters:\n",
    "        - M (MRP): The MRP to run samples from object.\n",
    "        - sample_sizes (list): Ordered list of sample sizes. For each sample size k, a screenshot of the value estimates are taken after k samples sample paths have been revealed.\n",
    "        - horizons (list): List of horizon lengths. For each horizon D, a value of the the MRP is truncated to horizon D.\n",
    "\n",
    "        Returns:\n",
    "        - estimates (MC_TD_mult_hor_estimates): Summary object containing the estimates for the given timesteps and horizons.\n",
    "\n",
    "        \"\"\"\n",
    "        estimates = MC_TD_mult_hor_estimates(sample_sizes, horizons, M)\n",
    "        for _ in range(sample_sizes[-1]):\n",
    "            estimates.add_trajectory(M.generate_path())\n",
    "        return estimates\n",
    "    \n",
    "    # If not specified, use maximum number of processes.\n",
    "    if NUM_PROCESSES is None:\n",
    "        NUM_PROCESSES = pa.helpers.cpu_count()\n",
    "        print(\"Using {} processes.\".format(NUM_PROCESSES))\n",
    "    \n",
    "    \n",
    "    pool = Pool(processes=NUM_PROCESSES)\n",
    "    # Setting the batch size this way may result in having slightly less than NUM_SAMPLES samples but this is fine.\n",
    "    BATCH_SIZE = NUM_PROCESSES\n",
    "\n",
    "    # Copy the MRP structure but change the seed of the random number generator. This is done to ensure that different processes produce independent samples.\n",
    "    Ms = [copy.deepcopy(M) for _ in range(BATCH_SIZE)]\n",
    "    for M_ in Ms:\n",
    "        M_.reseed_gen(np.random.seed(int(1000 * time.time()) % 2**32))\n",
    "    \n",
    "    index_start = 0\n",
    "    if not overwrite:\n",
    "        for alg in ['MC', 'TD']:\n",
    "            for sample_size in sample_sizes:\n",
    "                path = \"{read_path}/sample_size_{sample_size}/{alg}_starting_batch_\".format(read_path=write_path, sample_size = sample_size, alg=alg)\n",
    "                file_paths = glob.glob(path + \"[0-9]*\")\n",
    "                for file_path in file_paths:\n",
    "                    index_start = max(int(file_path[file_path.rfind(\"_\")+1:])+1, index_start)\n",
    "                    \n",
    "    for i in tqdm(range(0, NUM_SAMPLES, BATCH_SIZE)):\n",
    "        estimates = pool.map(partial(gen_samples, sample_sizes = sample_sizes, horizons=[M.depth]), Ms)\n",
    "        estimates = list(zip(*[list(zip(data.archive_MC_estimates, data.archive_TD_estimates)) for data in estimates]))\n",
    "        if write_path is not None:\n",
    "            Path(write_path).mkdir(exist_ok=True)\n",
    "            for (data,sample_size) in zip(estimates, sample_sizes):\n",
    "                MC_estimates, TD_estimates = list(zip(*data))\n",
    "                Path(\"{write_path}/sample_size_{sample_size}/\".format(write_path = write_path, sample_size = sample_size)).mkdir(exist_ok=True)\n",
    "                MC_estimates_file = open(\"{write_path}/sample_size_{sample_size}/MC_starting_batch_{batch}\".format(write_path = write_path, sample_size = sample_size, batch = index_start+i//BATCH_SIZE),\"wb\")\n",
    "                TD_estimates_file = open(\"{write_path}/sample_size_{sample_size}/TD_starting_batch_{batch}\".format(write_path = write_path, sample_size = sample_size, batch = index_start+i//BATCH_SIZE),\"wb\")\n",
    "                pickle.dump(MC_estimates,MC_estimates_file)\n",
    "                pickle.dump(TD_estimates,TD_estimates_file)\n",
    "                MC_estimates_file.close()\n",
    "                TD_estimates_file.close()\n",
    "        "
   ]
  },
  {
   "cell_type": "code",
   "execution_count": 8,
   "id": "e36a3c7c",
   "metadata": {},
   "outputs": [
    {
     "name": "stdout",
     "output_type": "stream",
     "text": [
      "Using 128 processes.\n"
     ]
    },
    {
     "name": "stderr",
     "output_type": "stream",
     "text": [
      "100%|█████████████████████████████████████████████████████████████████████████████████████████████████████████████████████████████████████████████████████████████████████████| 1/1 [00:47<00:00, 47.82s/it]\n"
     ]
    }
   ],
   "source": [
    "# Runs for a long time, only run if you want new estimates.\n",
    "write_empirical_estimates(M,sample_sizes, NUM_SAMPLES=5, write_path=\"variating_sample_estimators\", overwrite=False)"
   ]
  },
  {
   "cell_type": "code",
   "execution_count": 8,
   "id": "37487c41",
   "metadata": {
    "scrolled": true
   },
   "outputs": [],
   "source": [
    "def compute_empirical_MSE(state_a, state_b, sample_sizes, read_path, alg_names, Vs):\n",
    "    \"\"\"\n",
    "    Computes the empirical mean squared error (MSE) for different states and sample sized.\n",
    "\n",
    "    Parameters:\n",
    "    - state_a (tuple): The state for treatment A.\n",
    "    - state_b (tuple): The state for treatment B.\n",
    "    - sample_sizes (list): The list of sample_sizes at which the MSE is computed.\n",
    "    - read_path (str): Path to read the estimates.\n",
    "    - alg_names (list): List of algorithm names.\n",
    "    - M (MRP): The MRP object.\n",
    "\n",
    "    Returns:\n",
    "    - MSE (dict): Dictionary containing the empirical MSE for each algorithm, state, and horizon length.\n",
    "    - MSE_diffs (dict): Dictionary containing the empirical MSE for the difference between treatment A and treatment B for each algorithm and horizon length.\n",
    "\n",
    "    \"\"\"\n",
    "    MSE = {alg: {state: {} for state in [state_a, state_b]} for alg in alg_names}\n",
    "    MSE_diffs = {alg: {} for alg in alg_names}\n",
    "    tot = defaultdict(float)\n",
    "\n",
    "    for alg_name in alg_names:\n",
    "        for sample_size in sample_sizes:\n",
    "            num_samples = 0\n",
    "            sum_squared_errors = [0,0,0]\n",
    "            path = \"{read_path}/sample_size_{sample_size}/{alg}_starting_batch_\".format(read_path=read_path, sample_size = sample_size, alg=alg_name)\n",
    "            # Find all files whose path starts with the prefix\n",
    "            file_paths = glob.glob(path + \"*\")\n",
    "            \n",
    "            for file_path in file_paths:\n",
    "                estimates_file = open(file_path ,\"rb\")\n",
    "                estimates = pickle.load(estimates_file)\n",
    "                estimates_file.close()\n",
    "                for d in estimates:\n",
    "                    sum_squared_errors[0] += (d[0][state_a] - Vs[state_a])**2\n",
    "                    sum_squared_errors[1] += (d[0][state_b] - Vs[state_b])**2\n",
    "                    sum_squared_errors[2] += (d[0][state_a]-d[0][state_b] - (Vs[state_a] - Vs[state_b]))**2\n",
    "                num_samples += len(estimates)\n",
    "            MSE[alg_name][state_a][sample_size] = sum_squared_errors[0]/num_samples\n",
    "            MSE[alg_name][state_b][sample_size] = sum_squared_errors[1]/num_samples\n",
    "            MSE_diffs[alg_name][sample_size] = sum_squared_errors[2]/num_samples\n",
    "    return MSE, MSE_diffs\n"
   ]
  },
  {
   "cell_type": "code",
   "execution_count": 11,
   "metadata": {},
   "outputs": [],
   "source": [
    "# Compute the theoretical and empirical MSEs. Also retrieves the true value function to compute the empirical MSE.\n",
    "MSE_theo, MSE_diffs_theo, Vs = get_theorethical_variances(M, state_a, state_b)\n",
    "MSE_emp, MSE_diffs_emp = compute_empirical_MSE(state_a, state_b, sample_sizes, 'variating_sample_estimators', ['TD', 'MC'], Vs)"
   ]
  },
  {
   "cell_type": "code",
   "execution_count": 12,
   "id": "b2b668dd",
   "metadata": {},
   "outputs": [
    {
     "data": {
      "text/plain": [
       "<matplotlib.legend.Legend at 0x7fe2a41f5990>"
      ]
     },
     "execution_count": 12,
     "metadata": {},
     "output_type": "execute_result"
    },
    {
     "data": {
      "image/png": "[encoded data removed]",
      "text/plain": [
       "<Figure size 1000x500 with 1 Axes>"
      ]
     },
     "metadata": {},
     "output_type": "display_data"
    }
   ],
   "source": [
    "# Uncomment the line corresponding to the algorithm you want to plot.\n",
    "#ALGS = ['TD', 'MC']\n",
    "ALGS = ['TD']\n",
    "#ALGS = ['MC']\n",
    "\n",
    "for alg in ALGS:\n",
    "    plt.plot( sample_sizes, MSE_emp[alg][state_a].values(), label=\"emp Treatment A {}\".format(alg))\n",
    "    plt.plot( sample_sizes, MSE_emp[alg][state_b].values(), label=\"emp Treatment B {}\".format(alg))\n",
    "    plt.plot( sample_sizes, MSE_diffs_emp[alg].values(), label=\"emp ATE {}\".format(alg))\n",
    "\n",
    "    plt.plot( sample_sizes, [MSE_theo[alg][state_a]/num_samples for num_samples in sample_sizes], label=\"Treatment A  {}\".format(alg))\n",
    "    plt.plot( sample_sizes, [MSE_theo[alg][state_b]/num_samples for num_samples in sample_sizes], label=\"Treatment B  {}\".format(alg))\n",
    "    plt.plot( sample_sizes, [MSE_diffs_theo[alg]/num_samples for num_samples in sample_sizes], label=\"ATE {}\".format(alg))\n",
    "\n",
    "plt.legend(loc=\"upper right\")"
   ]
  },
  {
   "cell_type": "code",
   "execution_count": null,
   "metadata": {},
   "outputs": [],
   "source": []
  }
 ],
 "metadata": {
  "kernelspec": {
   "display_name": "Python 3 (ipykernel)",
   "language": "python",
   "name": "python3"
  },
  "language_info": {
   "codemirror_mode": {
    "name": "ipython",
    "version": 3
   },
   "file_extension": ".py",
   "mimetype": "text/x-python",
   "name": "python",
   "nbconvert_exporter": "python",
   "pygments_lexer": "ipython3",
   "version": "3.11.5"
  }
 },
 "nbformat": 4,
 "nbformat_minor": 5
}
